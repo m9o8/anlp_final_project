{
 "cells": [
  {
   "cell_type": "markdown",
   "id": "49c4b3b1",
   "metadata": {},
   "source": [
    "<center>\n",
    "\n",
    "<h1>Final Assessment - Advanced Natural Language Processing</h1>\n",
    "\n",
    "<i>\n",
    "\n",
    "Course: 22DM015 Advanced Methods in Natural Language Processing <br>\n",
    "\n",
    "Author(s): Ferran Boada Bergadà, Julián Romero, Lucia Sauer, Moritz Peist<br>\n",
    "\n",
    "Programme: DSDM\n",
    "\n",
    "<hr>\n",
    "\n",
    "....\n",
    "\n",
    "</i>\n",
    "\n",
    "</center>\n",
    "\n",
    "<hr>"
   ]
  },
  {
   "cell_type": "markdown",
   "id": "f155a530",
   "metadata": {},
   "source": [
    "## Setup"
   ]
  },
  {
   "cell_type": "code",
   "execution_count": 13,
   "id": "40288318",
   "metadata": {},
   "outputs": [],
   "source": [
    "# Imports\n",
    "import pandas as pd\n",
    "import os"
   ]
  },
  {
   "cell_type": "code",
   "execution_count": null,
   "id": "c1ea1729",
   "metadata": {},
   "outputs": [],
   "source": [
    "# Global constants\n",
    "DATA_PATH = '../data/'\n",
    "SPLITS = {'train': 'patent/train-00000-of-00001.parquet', 'validation': 'patent/validation-00000-of-00001.parquet', 'test': 'patent/test-00000-of-00001.parquet'}\n",
    "RANDOM_SEED = 42"
   ]
  },
  {
   "cell_type": "markdown",
   "id": "a0a7f60d",
   "metadata": {},
   "source": [
    "## Data Load"
   ]
  },
  {
   "cell_type": "code",
   "execution_count": 15,
   "id": "9df04b6d",
   "metadata": {},
   "outputs": [],
   "source": [
    "# Data loading and persistence\n",
    "\n",
    "def load_split(split_name, split_path, data_path=\"../data\", dataset=\"ccdv/patent-classification\"):\n",
    "    \"\"\"\n",
    "    Load a specific split of the dataset, checking for local cache first.\n",
    "    If the split is not cached locally, it will be downloaded and saved.\n",
    "    Args:\n",
    "        split_name (str): Name of the split (e.g., 'train', 'validation', 'test').\n",
    "        split_path (str): Path to the split file in the dataset.\n",
    "        data_path (str): Local path where the dataset is cached.\n",
    "        dataset (str): Name of the dataset on Hugging Face Hub.\n",
    "    Returns:\n",
    "        pd.DataFrame: DataFrame containing the split data.\n",
    "    \"\"\"\n",
    "    local_path = os.path.join(data_path, split_path)\n",
    "    if os.path.exists(local_path):\n",
    "        return pd.read_parquet(local_path)\n",
    "    \n",
    "    # Download and cache\n",
    "    os.makedirs(os.path.dirname(local_path), exist_ok=True)\n",
    "    df = pd.read_parquet(f\"hf://datasets/{dataset}/{split_path}\")\n",
    "    df.to_parquet(local_path, index=False)\n",
    "    return df"
   ]
  },
  {
   "cell_type": "code",
   "execution_count": null,
   "id": "a05569bb",
   "metadata": {},
   "outputs": [],
   "source": [
    "df_train = load_split('train', SPLITS['train'])\n",
    "df_validation = load_split('validation', SPLITS['validation'])\n",
    "df_test = load_split('test', SPLITS['test'])"
   ]
  },
  {
   "cell_type": "markdown",
   "id": "2c84237d",
   "metadata": {},
   "source": [
    "## Part 1"
   ]
  },
  {
   "cell_type": "markdown",
   "id": "b760fc1a",
   "metadata": {},
   "source": [
    "## Part 2"
   ]
  },
  {
   "cell_type": "markdown",
   "id": "ca39692d",
   "metadata": {},
   "source": [
    "- a. BERT Model with Limited Data (0.5 points): Train a BERT-based model using only 32 labeled examples and assess its performance."
   ]
  },
  {
   "cell_type": "code",
   "execution_count": null,
   "id": "472841ea",
   "metadata": {},
   "outputs": [],
   "source": [
    "df_train32 = df_train.sample(frac=0.32, random_state=RANDOM_SEED)"
   ]
  },
  {
   "cell_type": "markdown",
   "id": "a7b33b7d",
   "metadata": {},
   "source": [
    "- b. Dataset Augmentation (1 point):\n",
    "Experiment with an automated technique to increase your dataset size without using LLMs (chatGPT / Mistral / Gemini / etc...). Evaluate the impact on model performance."
   ]
  },
  {
   "cell_type": "markdown",
   "id": "7bdb2bcc",
   "metadata": {},
   "source": [
    "- c. Zero-Shot Learning with LLM (0.5 points): Apply a LLM (chatGPT/Claude/Mistral/Gemini/...) in a zero-shot learning setup. Document the performance."
   ]
  },
  {
   "cell_type": "markdown",
   "id": "3bb9aebb",
   "metadata": {},
   "source": [
    "- d. Data Generation with LLM (1 point): Use a LLM (chatGPT/Claude/Mistral/Gemini/...) to generate new, labeled dataset points. Train your BERT model with it + the 32 labels. Analyze how this impacts model metrics."
   ]
  },
  {
   "cell_type": "markdown",
   "id": "dd7a56e7",
   "metadata": {},
   "source": [
    "- e. Optimal Technique Application (0.5 points): Based on the previous experiments, apply the most effective technique(s) to further improve your model's performance. Comment your results and propose improvements."
   ]
  },
  {
   "cell_type": "markdown",
   "id": "1b5a3639",
   "metadata": {},
   "source": [
    "## Part 3"
   ]
  },
  {
   "cell_type": "markdown",
   "id": "f0c0ea81",
   "metadata": {},
   "source": [
    "## Part 4"
   ]
  }
 ],
 "metadata": {
  "kernelspec": {
   "display_name": ".venv",
   "language": "python",
   "name": "python3"
  },
  "language_info": {
   "codemirror_mode": {
    "name": "ipython",
    "version": 3
   },
   "file_extension": ".py",
   "mimetype": "text/x-python",
   "name": "python",
   "nbconvert_exporter": "python",
   "pygments_lexer": "ipython3",
   "version": "3.13.2"
  }
 },
 "nbformat": 4,
 "nbformat_minor": 5
}
